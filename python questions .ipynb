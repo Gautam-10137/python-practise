{
 "cells": [
  {
   "cell_type": "code",
   "execution_count": 1,
   "id": "15a1f0f1",
   "metadata": {},
   "outputs": [
    {
     "name": "stdout",
     "output_type": "stream",
     "text": [
      "Enter the wordgautam\n",
      "Enter the lettera\n",
      "gutm\n"
     ]
    }
   ],
   "source": [
    "# Input a word and remove a particular letter\n",
    "def function():\n",
    "    s1=input(\"Enter the word\")\n",
    "    s2=input(\"Enter the letter\")\n",
    "    s3=\"\"\n",
    "    for i in range(len(s1)):\n",
    "        if(s1[i]==s2):\n",
    "            continue\n",
    "        else:\n",
    "            s3+=s1[i]\n",
    "    print (s3)\n",
    "function()"
   ]
  },
  {
   "cell_type": "code",
   "execution_count": 2,
   "id": "653282c1",
   "metadata": {},
   "outputs": [
    {
     "name": "stdout",
     "output_type": "stream",
     "text": [
      "Enter the wordGautaM\n",
      "GAUtAM\n"
     ]
    }
   ],
   "source": [
    "# Input a word and return word with all vowels capitalised\n",
    "def function():\n",
    "    s1=input(\"Enter the word\")\n",
    "    s2=\"\"\n",
    "    for i in range(len(s1)):\n",
    "        if(s1[i]=='a' or s1[i]=='e' or s1[i]=='i' or s1[i]=='o' or s1[i]=='u'):\n",
    "            a=ord(s1[i])\n",
    "            b=a-32\n",
    "            s2+=chr(b)\n",
    "        else:\n",
    "            s2+=s1[i]\n",
    "    print(s2)\n",
    "function()"
   ]
  },
  {
   "cell_type": "code",
   "execution_count": 3,
   "id": "8eeb9ab5",
   "metadata": {},
   "outputs": [
    {
     "name": "stdout",
     "output_type": "stream",
     "text": [
      "Enter the wordgfdsbbbfdfbb\n",
      "No. of b in word is  5\n"
     ]
    }
   ],
   "source": [
    "# Input a word and a letter and return no. of occurence of letter in word\n",
    "def function():\n",
    "    s1=input(\"Enter the word\")\n",
    "    count=0\n",
    "    for i in range(len(s1)):\n",
    "        if (s1[i]=='b'):\n",
    "            count=count+1\n",
    "    print(\"No. of b in word is \",count)\n",
    "function()"
   ]
  },
  {
   "cell_type": "code",
   "execution_count": 5,
   "id": "bd83f97c",
   "metadata": {},
   "outputs": [
    {
     "name": "stdout",
     "output_type": "stream",
     "text": [
      "Enter the first wordnitin\n",
      "Enter the second wordnitin\n",
      "Second word is reverse of first word\n"
     ]
    }
   ],
   "source": [
    "# Input two words and return true if second word is reverse of first word\n",
    "def function():\n",
    "    s1=input(\"Enter the first word\")\n",
    "    s2=input(\"Enter the second word\")\n",
    "    for i in range (len(s1)):\n",
    "        if(s1[i]==s1[-1-i]):\n",
    "            continue\n",
    "        else:\n",
    "            break\n",
    "    if(i==len(s1)-1):\n",
    "        print(\"Second word is reverse of first word\")\n",
    "function()\n",
    "        \n",
    "        "
   ]
  },
  {
   "cell_type": "code",
   "execution_count": 12,
   "id": "5abbd9f1",
   "metadata": {},
   "outputs": [
    {
     "ename": "IndentationError",
     "evalue": "unindent does not match any outer indentation level (<tokenize>, line 9)",
     "output_type": "error",
     "traceback": [
      "\u001b[1;36m  File \u001b[1;32m\"<tokenize>\"\u001b[1;36m, line \u001b[1;32m9\u001b[0m\n\u001b[1;33m    for j in range(2,(i//2 )+1):\u001b[0m\n\u001b[1;37m    ^\u001b[0m\n\u001b[1;31mIndentationError\u001b[0m\u001b[1;31m:\u001b[0m unindent does not match any outer indentation level\n"
     ]
    }
   ],
   "source": [
    "# to print all prime numbers in list\n",
    "l=[3,4,6,7,8,9,5]\n",
    "l2=[]\n",
    "\n",
    "def is_prime():\n",
    "    for i in l:\n",
    "         if i == 0 or i == 1 :\n",
    "                continue\n",
    "            for j in range(2,(i//2 )+1):\n",
    "                if l[i] % j == 0:\n",
    "                    break;\n",
    "                else:\n",
    "                    l2.append(i)\n",
    "    \n",
    "    l2\n",
    "                \n",
    "      \n",
    "               \n",
    "is_prime()           \n"
   ]
  },
  {
   "cell_type": "code",
   "execution_count": 5,
   "id": "b14f19da",
   "metadata": {},
   "outputs": [
    {
     "name": "stdout",
     "output_type": "stream",
     "text": [
      "[7, 9]\n"
     ]
    }
   ],
   "source": [
    "# to print all prime numbers in list\n",
    "l=[3,4,6,7,8,9,5]\n",
    "l2=[]\n",
    "\n",
    "def is_prime(listElement):\n",
    "    isPrime = False\n",
    "    for i in range(2, listElement // 2):\n",
    "        if listElement % i == 0:\n",
    "            return False\n",
    "        else:\n",
    "            return True\n",
    "               \n",
    "l2 = [x for x in l if is_prime(x)]           \n",
    "print(l2)"
   ]
  },
  {
   "cell_type": "code",
   "execution_count": 9,
   "id": "fca9097e",
   "metadata": {},
   "outputs": [
    {
     "name": "stdout",
     "output_type": "stream",
     "text": [
      "[3, 5, 11]\n",
      "1-2\n"
     ]
    }
   ],
   "source": [
    "l=[3,4,5,6,11,8,9]\n",
    "\n",
    "l2=[]\n",
    "def is_prime():\n",
    "    global l2;\n",
    "    for i in l:\n",
    "        for j in range(2,int(i**0.5) +1,1):\n",
    "            if i%j==0:\n",
    "                break\n",
    "        else:\n",
    "            l2.append(i)\n",
    "    print(l2)\n",
    "    l2=['1','2']                  \n",
    "#     l2=str(l2)\n",
    "    l2='-'.join(l2)\n",
    "    print(l2)\n",
    "      \n",
    "is_prime()\n"
   ]
  },
  {
   "cell_type": "markdown",
   "id": "804745ad",
   "metadata": {},
   "source": []
  },
  {
   "cell_type": "code",
   "execution_count": 5,
   "id": "2126de41",
   "metadata": {},
   "outputs": [
    {
     "name": "stdout",
     "output_type": "stream",
     "text": [
      "(1, 4)\n",
      "(2, 5)\n",
      "(3, 6)\n"
     ]
    }
   ],
   "source": [
    "l1=[1,2,3]\n",
    "l2=[4,5,6]\n",
    "l3=list(zip(l1,l2))\n",
    "for i in l3:\n",
    "    print(i)\n",
    "\n"
   ]
  },
  {
   "cell_type": "code",
   "execution_count": 48,
   "id": "2475a6ba",
   "metadata": {},
   "outputs": [
    {
     "name": "stdout",
     "output_type": "stream",
     "text": [
      "1\n",
      "3\n",
      "5\n"
     ]
    }
   ],
   "source": [
    "t1=(1,2,3,4,5,6)\n",
    "l1=list(t1)\n",
    "l1\n",
    "for i in range(0,len(l1),2):\n",
    "    print(l1[i])\n",
    "    "
   ]
  },
  {
   "cell_type": "code",
   "execution_count": 50,
   "id": "3ab1d10b",
   "metadata": {},
   "outputs": [
    {
     "name": "stdout",
     "output_type": "stream",
     "text": [
      "1\n",
      "3\n",
      "5\n",
      "5\n"
     ]
    }
   ],
   "source": [
    "def tup(*a):\n",
    "    for i in range(0,len(a),2):\n",
    "        print(a[i])\n",
    "tup(1,2,3,4,5,4,5)"
   ]
  },
  {
   "cell_type": "code",
   "execution_count": 51,
   "id": "6037beca",
   "metadata": {},
   "outputs": [
    {
     "data": {
      "text/plain": [
       "[(1,), (2,), (3,), (4,)]"
      ]
     },
     "execution_count": 51,
     "metadata": {},
     "output_type": "execute_result"
    }
   ],
   "source": [
    "t1=(1,2,3,4)\n",
    "l1=list(zip(t1))\n",
    "l1"
   ]
  },
  {
   "cell_type": "code",
   "execution_count": 54,
   "id": "62865dc0",
   "metadata": {},
   "outputs": [
    {
     "data": {
      "text/plain": [
       "10"
      ]
     },
     "execution_count": 54,
     "metadata": {},
     "output_type": "execute_result"
    }
   ],
   "source": [
    "t1=(1,2,3,4)\n",
    "sum(t1)"
   ]
  },
  {
   "cell_type": "code",
   "execution_count": 55,
   "id": "815c23d4",
   "metadata": {},
   "outputs": [
    {
     "data": {
      "text/plain": [
       "1"
      ]
     },
     "execution_count": 55,
     "metadata": {},
     "output_type": "execute_result"
    }
   ],
   "source": [
    "t=('a','b')\n",
    "t.count('b')"
   ]
  },
  {
   "cell_type": "code",
   "execution_count": 21,
   "id": "a9ed695d",
   "metadata": {},
   "outputs": [
    {
     "name": "stdout",
     "output_type": "stream",
     "text": [
      "[ 5 ,   4 ,   3 ,   2 ,   1 ]\n"
     ]
    },
    {
     "data": {
      "text/plain": [
       "'[ 5 ,   4 ,   3 ,   2 ,   1 ]'"
      ]
     },
     "execution_count": 21,
     "metadata": {},
     "output_type": "execute_result"
    }
   ],
   "source": [
    "l1=[1,2,3,4,5]\n",
    "l2=[]\n",
    "count=1\n",
    "for i in range(0,len(l1)):\n",
    "    l2.append(l1[len(l1)-count])\n",
    "    count+=1\n",
    "l2=str(l2)\n",
    "l2=' '.join(l2)\n",
    "# it will join all items including comma with gap before them\n",
    "print(l2)\n",
    "# it print in inverted commas\n",
    "l2\n",
    "  \n",
    "    \n",
    "    \n",
    "\n"
   ]
  },
  {
   "cell_type": "code",
   "execution_count": 2,
   "id": "e5e6ecd9",
   "metadata": {},
   "outputs": [
    {
     "name": "stdout",
     "output_type": "stream",
     "text": [
      "ENter the first no.2\n",
      "Enter 2nd no.10\n",
      "3\n",
      "5\n",
      "7\n",
      "9\n"
     ]
    }
   ],
   "source": [
    "def function():\n",
    "    n1=int(input(\"ENter the first no.\"))\n",
    "    n2=int(input(\"Enter 2nd no.\"))\n",
    "    if n1<n2:\n",
    "        for i in range(n1+1,n2):\n",
    "            if(i%2==0):\n",
    "                continue\n",
    "            else:\n",
    "                print(i)\n",
    "    else:\n",
    "        print(\"Enter other numbers\")\n",
    "function()"
   ]
  },
  {
   "cell_type": "code",
   "execution_count": 6,
   "id": "ef4177a0",
   "metadata": {},
   "outputs": [
    {
     "name": "stdout",
     "output_type": "stream",
     "text": [
      "Welcome to python\n",
      "<__main__.Demo object at 0x00000206C1180340>\n"
     ]
    }
   ],
   "source": [
    "class Demo:\n",
    "    print(\"Welcome to python\")\n",
    "D1=Demo()\n",
    "print(D1)"
   ]
  },
  {
   "cell_type": "code",
   "execution_count": 8,
   "id": "2a5c8aff",
   "metadata": {},
   "outputs": [
    {
     "name": "stdout",
     "output_type": "stream",
     "text": [
      "0\n",
      "0\n",
      "20\n",
      "30\n"
     ]
    }
   ],
   "source": [
    "class rectangle:\n",
    "    len=0\n",
    "    bre=0\n",
    "R1=rectangle()\n",
    "R2=rectangle()\n",
    "print(R1.len)\n",
    "print(R1.bre)\n",
    "R2.len=20\n",
    "R2.bre=30\n",
    "print(R2.len)\n",
    "print(R2.bre)"
   ]
  },
  {
   "cell_type": "code",
   "execution_count": 9,
   "id": "9b0ae994",
   "metadata": {},
   "outputs": [
    {
     "name": "stdout",
     "output_type": "stream",
     "text": [
      "Welcome\n"
     ]
    }
   ],
   "source": [
    "class Demo1:\n",
    "    def display(self):\n",
    "        print('Welcome')\n",
    "ob1=Demo1()\n",
    "ob1.display()"
   ]
  },
  {
   "cell_type": "code",
   "execution_count": 10,
   "id": "0e5304b6",
   "metadata": {},
   "outputs": [
    {
     "name": "stdout",
     "output_type": "stream",
     "text": [
      "radius= 5\n",
      "Area of circle is = 78.53981633974483\n"
     ]
    }
   ],
   "source": [
    "import math\n",
    "class circle:\n",
    "    def calculate(self,radius):\n",
    "        print(\"radius=\",radius)\n",
    "        area=math.pi*radius**2\n",
    "        return area\n",
    "ob1=circle()\n",
    "print(\"Area of circle is =\",ob1.calculate(5))"
   ]
  },
  {
   "cell_type": "code",
   "execution_count": 13,
   "id": "c22c31a7",
   "metadata": {},
   "outputs": [
    {
     "name": "stdout",
     "output_type": "stream",
     "text": [
      "local variable x is= 30\n",
      "instance variable x is 5\n"
     ]
    }
   ],
   "source": [
    "class prac:\n",
    "    x=5\n",
    "    def disp(self,x):\n",
    "            x=30\n",
    "            print(\"local variable x is=\",x)\n",
    "            print(\"instance variable x is\",self.x)\n",
    "            \n",
    "ob=prac()\n",
    "ob.disp(50)"
   ]
  },
  {
   "cell_type": "code",
   "execution_count": 14,
   "id": "0ed6a8b6",
   "metadata": {},
   "outputs": [
    {
     "name": "stdout",
     "output_type": "stream",
     "text": [
      "In method B\n",
      "In method A\n",
      "In method A\n"
     ]
    }
   ],
   "source": [
    "class self_demo():\n",
    "    def Method_A(self):\n",
    "        print('In method A')\n",
    "    def Method_B(self):\n",
    "        print('In method B')\n",
    "        self.Method_A()\n",
    "Q=self_demo()\n",
    "Q.Method_B()\n",
    "Q.Method_A()"
   ]
  },
  {
   "cell_type": "code",
   "execution_count": 28,
   "id": "a1b24061",
   "metadata": {},
   "outputs": [
    {
     "name": "stdout",
     "output_type": "stream",
     "text": [
      "Enter Nameaashik roy\n",
      "Name= aashik roy\n",
      "Enter Age20\n",
      "Age= 20\n"
     ]
    },
    {
     "data": {
      "text/plain": [
       "mappingproxy({'__module__': '__main__',\n",
       "              'Name': '',\n",
       "              'Age': '',\n",
       "              'read': <function __main__.displayDemo.read(self)>,\n",
       "              '__dict__': <attribute '__dict__' of 'displayDemo' objects>,\n",
       "              '__weakref__': <attribute '__weakref__' of 'displayDemo' objects>,\n",
       "              '__doc__': None})"
      ]
     },
     "execution_count": 28,
     "metadata": {},
     "output_type": "execute_result"
    }
   ],
   "source": [
    "class displayDemo:\n",
    "    Name=''\n",
    "    Age=''\n",
    "    def read(self):\n",
    "        Name=input('Enter Name')\n",
    "        print('Name=',Name)\n",
    "        Age=eval(input('Enter Age'))\n",
    "        print('Age=',Age)\n",
    "D1=displayDemo()\n",
    "D1.read()\n",
    "displayDemo.__dict__"
   ]
  },
  {
   "cell_type": "code",
   "execution_count": 24,
   "id": "bfd1751c",
   "metadata": {},
   "outputs": [
    {
     "name": "stdout",
     "output_type": "stream",
     "text": [
      "Name= Vishal\n",
      "Name= Vishal\n",
      "Bank account No= 10101\n",
      "Bank account No= 10101\n",
      "Name= Vishal\n",
      "Bank account No= 10101\n"
     ]
    }
   ],
   "source": [
    "class Person:\n",
    "    def __init__(self):\n",
    "        self.Name='Vishal'\n",
    "        self.BankAccNo=10101\n",
    "    def Display(self):\n",
    "        print('Name=',self.Name)\n",
    "        print('Bank account No=',self.BankAccNo)\n",
    "P=Person()\n",
    "print('Name=',P.Name)\n",
    "P.Display()\n",
    "print('Bank account No=',P.BankAccNo)\n",
    "P.Display()"
   ]
  },
  {
   "cell_type": "code",
   "execution_count": 31,
   "id": "5d482e6d",
   "metadata": {},
   "outputs": [
    {
     "name": "stdout",
     "output_type": "stream",
     "text": [
      "initial volume of object is 6000\n"
     ]
    }
   ],
   "source": [
    "class volume:\n",
    "    def __init__(self):\n",
    "        len=10\n",
    "        bre=20\n",
    "        hig=30\n",
    "        vol=len*bre*hig\n",
    "        print('initial volume of object'+,vol)\n",
    "V=volume()"
   ]
  },
  {
   "cell_type": "code",
   "execution_count": 1,
   "id": "adf752cc",
   "metadata": {},
   "outputs": [
    {
     "name": "stdout",
     "output_type": "stream",
     "text": [
      "Volume of box is 6000\n",
      "<__main__.boxvol object at 0x0000026E188A8C70>\n"
     ]
    }
   ],
   "source": [
    "class boxvol:\n",
    "    def __init__(self,length,breadth,height):\n",
    "        volume= length*breadth*height\n",
    "        print(\"Volume of box is\",volume)\n",
    "box=boxvol(10,20,30)\n",
    "print(box)"
   ]
  },
  {
   "cell_type": "code",
   "execution_count": 3,
   "id": "a556eb7e",
   "metadata": {},
   "outputs": [
    {
     "name": "stdout",
     "output_type": "stream",
     "text": [
      "aumGTA"
     ]
    }
   ],
   "source": [
    "str2=\"GauTAm\"\n",
    "for i in str2:\n",
    "    if(i==i.lower()):\n",
    "        print(i,end='')\n",
    "for i in str:\n",
    "            if(i==i.upper()):\n",
    "                print(i,end='')"
   ]
  },
  {
   "cell_type": "code",
   "execution_count": 10,
   "id": "2c6a75d5",
   "metadata": {},
   "outputs": [
    {
     "name": "stdout",
     "output_type": "stream",
     "text": [
      "Number of Vowels in string are\n",
      "5\n",
      "Number of consonants in string are\n",
      "7\n"
     ]
    }
   ],
   "source": [
    "s1=\"Gautam Pahwa\"\n",
    "count1=0\n",
    "count2=0\n",
    "for i in range(0,len(s1)):\n",
    "    if(s1[i]=='a' or s1[i]=='e' or s1[i]=='i' or s1[i]=='o' or s1[i]=='u' ):\n",
    "        count1+=1\n",
    "    elif(s1[i]=='A' or s1[i]=='E' or s1[i]=='I' or s1[i]=='O' or s1[i]=='U' ):\n",
    "        count1+=1\n",
    "    else:\n",
    "        count2+=1\n",
    "print(\"Number of Vowels in string are\")\n",
    "print(count1)\n",
    "print(\"Number of consonants in string are\")\n",
    "print(count2)"
   ]
  },
  {
   "cell_type": "code",
   "execution_count": 2,
   "id": "02d7f1f4",
   "metadata": {},
   "outputs": [
    {
     "data": {
      "text/plain": [
       "[10, 20, 30, 40]"
      ]
     },
     "execution_count": 2,
     "metadata": {},
     "output_type": "execute_result"
    }
   ],
   "source": [
    "a=[10,20,30,40,41,55]\n",
    "a=[x for x in a if x%2==0]\n",
    "a"
   ]
  },
  {
   "cell_type": "code",
   "execution_count": 59,
   "id": "ba0fc55b",
   "metadata": {},
   "outputs": [
    {
     "name": "stdout",
     "output_type": "stream",
     "text": [
      "{'name': 'Gautam', 'age': 19}\n",
      "Gautam\n",
      "19\n",
      "Gautam\n",
      "dict_keys(['name', 'age'])\n",
      "dict_values(['Gautam', 19])\n",
      "dict_items([('name', 'Gautam'), ('age', 19)])\n",
      "{'name': 'Gt', 'age': 19}\n",
      "{'name': 'Gautam', 'age': 19}\n",
      "{'name': 'Gautam'}\n",
      "{}\n",
      "name\n",
      "age\n",
      "Gautam\n",
      "19\n",
      "name Gautam\n",
      "age 19\n",
      "{'father': {'name': 'john', 'age': 30}, 'mother': {'name': 'kary', 'age': 28}}\n",
      "john\n"
     ]
    }
   ],
   "source": [
    "a={'name':'Gautam','age':19}\n",
    "print(a)\n",
    "print(a['name'])\n",
    "print(a['age'])\n",
    "print(a.get('name'))\n",
    "print(a.keys())\n",
    "print(a.values())\n",
    "print(a.items())\n",
    "a['name']='Gt'\n",
    "print(a)\n",
    "a.update({'name':'Gautam'})\n",
    "print(a)\n",
    "a.pop('age')\n",
    "print(a)\n",
    "del a['name']\n",
    "print(a)\n",
    "b={'name':'Gautam','age':'19'}\n",
    "# b.clear()\n",
    "# print(b)\n",
    "for i in b:\n",
    "    print(i)\n",
    "for j in b:\n",
    "    print(b[j])\n",
    "for k,l in b.items():\n",
    "    print(k,l)\n",
    "family={\n",
    "    'father':{ 'name':'john',\n",
    "    'age' : 30\n",
    "             }, \n",
    "    'mother':{ 'name':'kary',\n",
    "              'age':28 \n",
    "    }\n",
    "}\n",
    "print(family)\n",
    "print (family['father']['name'])   "
   ]
  },
  {
   "cell_type": "code",
   "execution_count": 29,
   "id": "4edbb908",
   "metadata": {},
   "outputs": [
    {
     "name": "stdout",
     "output_type": "stream",
     "text": [
      "{'name': 'Aashik', 'age': 20}\n"
     ]
    }
   ],
   "source": [
    "a={'name':'Aashik','age':20}\n",
    "print(a)"
   ]
  },
  {
   "cell_type": "code",
   "execution_count": 1,
   "id": "de62aec1",
   "metadata": {},
   "outputs": [
    {
     "name": "stdout",
     "output_type": "stream",
     "text": [
      "Empty Dictionary: \n",
      "{}\n"
     ]
    }
   ],
   "source": [
    "Dict = {}\n",
    "print(\"Empty Dictionary: \")\n",
    "print(Dict)"
   ]
  },
  {
   "cell_type": "code",
   "execution_count": 4,
   "id": "418b69e0",
   "metadata": {},
   "outputs": [
    {
     "name": "stdout",
     "output_type": "stream",
     "text": [
      "{'name': 'Gautam', 'age': '19'}\n"
     ]
    }
   ],
   "source": [
    "Dict={}\n",
    "Dict['name'] = 'Gautam'\n",
    "Dict['age'] = '19'\n",
    "print(Dict)\n"
   ]
  },
  {
   "cell_type": "code",
   "execution_count": 30,
   "id": "aa247459",
   "metadata": {},
   "outputs": [
    {
     "name": "stdout",
     "output_type": "stream",
     "text": [
      "{'name': 'Aashik', 'age': 20}\n",
      "Aashik\n",
      "20\n",
      "Aashik\n"
     ]
    }
   ],
   "source": [
    "a={'name':'Gautam','age':1}\n",
    "print(a)\n",
    "print(a['name'])\n",
    "print(a['age'])\n",
    "print(a.get('name'))"
   ]
  },
  {
   "cell_type": "code",
   "execution_count": 31,
   "id": "68d78a83",
   "metadata": {},
   "outputs": [
    {
     "name": "stdout",
     "output_type": "stream",
     "text": [
      "{'name': 'Aashik', 'age': 20}\n",
      "dict_keys(['name', 'age'])\n",
      "dict_values(['Aashik', 20])\n",
      "dict_items([('name', 'Aashik'), ('age', 20)])\n"
     ]
    }
   ],
   "source": [
    "a={'name':'Gautam','age':19}\n",
    "print(a)\n",
    "print(a.keys())\n",
    "print(a.values())\n",
    "print(a.items())"
   ]
  },
  {
   "cell_type": "code",
   "execution_count": 32,
   "id": "6fcfdced",
   "metadata": {},
   "outputs": [
    {
     "name": "stdout",
     "output_type": "stream",
     "text": [
      "name Aashik\n",
      "age 20\n"
     ]
    }
   ],
   "source": [
    "b={'name':'Gautam','age':'19'}\n",
    "for k,l in b.items():\n",
    "    print(k,l)"
   ]
  },
  {
   "cell_type": "code",
   "execution_count": 5,
   "id": "2e919277",
   "metadata": {},
   "outputs": [
    {
     "name": "stdout",
     "output_type": "stream",
     "text": [
      "{'father': {'name': 'john', 'age': 30}, 'mother': {'name': 'kary', 'age': 28}}\n",
      "john\n"
     ]
    }
   ],
   "source": [
    "family={\n",
    "    'father':{ 'name':'john',\n",
    "    'age' : 30\n",
    "             }, \n",
    "    'mother':{ 'name':'kary',\n",
    "              'age':28 \n",
    "    }\n",
    "}\n",
    "print(family)\n",
    "print (family['father']['name'])   "
   ]
  },
  {
   "cell_type": "code",
   "execution_count": 1,
   "id": "97c50170",
   "metadata": {},
   "outputs": [
    {
     "name": "stdout",
     "output_type": "stream",
     "text": [
      "C:\\Users\\Server\n"
     ]
    }
   ],
   "source": [
    "import os\n",
    "print(os.getcwd())"
   ]
  },
  {
   "cell_type": "code",
   "execution_count": 4,
   "id": "f3a0ea40",
   "metadata": {},
   "outputs": [
    {
     "name": "stdout",
     "output_type": "stream",
     "text": [
      "<_io.TextIOWrapper name='E:\\\\DOCUMENTS\\\\Docfile.txt' mode='r' encoding='cp1252'>\n"
     ]
    }
   ],
   "source": [
    "file=open('E:\\DOCUMENTS\\Docfile.txt','r')\n",
    "print(file)\n",
    "\n"
   ]
  },
  {
   "cell_type": "code",
   "execution_count": 17,
   "id": "bfb89834",
   "metadata": {},
   "outputs": [
    {
     "name": "stdout",
     "output_type": "stream",
     "text": [
      "My age is 19\n"
     ]
    }
   ],
   "source": [
    "file=open('E:\\\\DOCUMENTS\\\\Docfile.txt','r')\n",
    "print(file.read())\n",
    "file.close()\n",
    "# for i in file:\n",
    "#     print(i)"
   ]
  },
  {
   "cell_type": "code",
   "execution_count": 15,
   "id": "4557bc91",
   "metadata": {},
   "outputs": [
    {
     "name": "stdout",
     "output_type": "stream",
     "text": [
      "My age is 19\n"
     ]
    }
   ],
   "source": [
    "file=open('E:\\\\DOCUMENTS\\\\Docfile.txt','w')\n",
    "# to change the file text\n",
    "file.write('My age is 19')\n",
    "file.close()\n",
    "file=open('E:\\\\DOCUMENTS\\\\Docfile.txt','r')\n",
    "for i in file:\n",
    "    print(i)"
   ]
  },
  {
   "cell_type": "code",
   "execution_count": 18,
   "id": "dd65e60d",
   "metadata": {},
   "outputs": [
    {
     "data": {
      "text/plain": [
       "<function TextIOWrapper.close()>"
      ]
     },
     "execution_count": 18,
     "metadata": {},
     "output_type": "execute_result"
    }
   ],
   "source": [
    "file=open('hello.txt','w')\n",
    "file.write(\"Hello \")\n",
    "file.close\n"
   ]
  },
  {
   "cell_type": "code",
   "execution_count": 35,
   "id": "3bf3d4d3",
   "metadata": {},
   "outputs": [
    {
     "name": "stdout",
     "output_type": "stream",
     "text": [
      "<built-in method read of _io.TextIOWrapper object at 0x0000014CA3DC0AD0>\n"
     ]
    }
   ],
   "source": [
    "def a():\n",
    "    F1=open(\"Info1.txt\",\"w+\")\n",
    "    F1.write(\"Hello how are you?\\n\")\n",
    "    F1.write(\"Welocome to python programming class\\n\")\n",
    "    F1.write(\"Enjoy the session\\n\")\n",
    "    print(F1.read)\n",
    "    F1.close()\n",
    "a()"
   ]
  },
  {
   "cell_type": "code",
   "execution_count": 33,
   "id": "0b882efc",
   "metadata": {},
   "outputs": [],
   "source": [
    "def xyz():\n",
    "    F2=open(\"Info2.txt\",\"w\")\n",
    "    for x in range(1,21):\n",
    "        x=str(x)\n",
    "#         F2.write(x,\"\\n\")\n",
    "        F2.write(x)\n",
    "        F2.write(\"\\n\")\n",
    "    F2.close()\n",
    "xyz()"
   ]
  },
  {
   "cell_type": "code",
   "execution_count": 29,
   "id": "0246fa7e",
   "metadata": {},
   "outputs": [],
   "source": [
    "# p to write 50 random no. between 500 and thousand into a file\n",
    "import random;\n",
    "def a ():\n",
    "    F=open(\"Info3.txt\",\"w\")\n",
    "    for i in range(0,50):\n",
    "        F.write(str(random.randint(500,1000)))\n",
    "        F.write(\"\\n\")\n",
    "    F.close()\n",
    "a()\n",
    "        "
   ]
  },
  {
   "cell_type": "code",
   "execution_count": 34,
   "id": "59f8c815",
   "metadata": {},
   "outputs": [
    {
     "name": "stdout",
     "output_type": "stream",
     "text": [
      "Hello how are you?Welocome to python programming class\n",
      "Enjoy the session\n",
      "\n",
      "<class 'str'>\n"
     ]
    }
   ],
   "source": [
    "F3=open(\"Info1.txt\",\"r\")\n",
    "text=F3.read()\n",
    "print(text)\n",
    "print(type(text))\n",
    "F3.close()"
   ]
  },
  {
   "cell_type": "code",
   "execution_count": 21,
   "id": "f9077e1e",
   "metadata": {},
   "outputs": [
    {
     "name": "stdout",
     "output_type": "stream",
     "text": [
      "Hello how are you?\n",
      "\n",
      "Welocome to python programming class\n",
      "\n",
      "Enjoy the session\n",
      "\n"
     ]
    }
   ],
   "source": [
    "F3=open(\"Info1.txt\",\"r\")\n",
    "for text in F3:\n",
    "    print(text)\n",
    "#     Spacing we had given \"\\n\" in that program"
   ]
  },
  {
   "cell_type": "code",
   "execution_count": 23,
   "id": "ba28ace0",
   "metadata": {},
   "outputs": [
    {
     "name": "stdout",
     "output_type": "stream",
     "text": [
      "Hello how are you?\n",
      "\n"
     ]
    }
   ],
   "source": [
    "F3=open(\"Info1.txt\",\"r\")\n",
    "text=F3.readline()\n",
    "print(text)"
   ]
  },
  {
   "cell_type": "code",
   "execution_count": 30,
   "id": "10546167",
   "metadata": {},
   "outputs": [
    {
     "name": "stdout",
     "output_type": "stream",
     "text": [
      "36813\n"
     ]
    }
   ],
   "source": [
    "# program to add all random  numbers\n",
    "def sumOfNo():\n",
    "    sum=0\n",
    "    F5=open(\"Info3.txt\",\"r\")\n",
    "    for i in range(0,50):\n",
    "        sum+=int(F5.readline())\n",
    "    print(sum)\n",
    "\n",
    "sumOfNo()       "
   ]
  },
  {
   "cell_type": "code",
   "execution_count": 31,
   "id": "ede5c1cc",
   "metadata": {},
   "outputs": [
    {
     "name": "stdout",
     "output_type": "stream",
     "text": [
      "['Hello', 'how', 'are', 'you?']\n"
     ]
    }
   ],
   "source": [
    "F3=open(\"Info1.txt\",\"r\")\n",
    "text=F3.readline().split()\n",
    "print(text)\n"
   ]
  },
  {
   "cell_type": "code",
   "execution_count": 3,
   "id": "20504374",
   "metadata": {},
   "outputs": [
    {
     "name": "stdout",
     "output_type": "stream",
     "text": [
      "Hello how are you?\n",
      "Welocome to python programming class\n",
      "Enjoy the session\n",
      "Learn Python Online\n"
     ]
    }
   ],
   "source": [
    "F3=open(\"Info1.txt\",\"a\")\n",
    "F3.write(\"Learn Python Online\")\n",
    "F3.close()\n",
    "F3=open(\"Info1.txt\",\"r\")\n",
    "text=F3.read()\n",
    "print(text)"
   ]
  },
  {
   "cell_type": "code",
   "execution_count": 31,
   "id": "fad41040",
   "metadata": {},
   "outputs": [
    {
     "name": "stdout",
     "output_type": "stream",
     "text": [
      "Tuesday\n",
      "Wednesday\n",
      "Thrusday\n",
      "Friday\n",
      "\n",
      "Monday\n",
      "Tuesday\n",
      "Wednesday\n",
      "Thrusday\n",
      "Friday\n",
      "Saturday\n",
      "Sunday\n"
     ]
    }
   ],
   "source": [
    "def fun():\n",
    "  f=open(\"weekdays.txt\",\"w+\")\n",
    "  f.write(\"Monday\")\n",
    "  f.write('\\n')\n",
    "  f.write(\"Tuesday\")\n",
    "  f.write('\\n')\n",
    "  f.write(\"Wednesday\")\n",
    "  f.write('\\n')\n",
    "  f.write(\"Thrusday\")\n",
    "  f.write('\\n')\n",
    "  f.write(\"Friday\")\n",
    "  f.write('\\n')\n",
    "# reading after monday\n",
    "  f.seek(8)   \n",
    "  print(f.read())\n",
    "# Adding saturday and sunday at last\n",
    "  f=open(\"Weekdays.txt\",\"a\")\n",
    "  f.seek(0,2)\n",
    "  f.write(\"Saturday\")\n",
    "  f.write(\"\\n\")\n",
    "  f.write(\"Sunday\")\n",
    "  f.close()\n",
    "# read and print file\n",
    "  f=open(\"Weekdays.txt\",\"r\")\n",
    "  print(f.read())\n",
    "fun()\n",
    "\n"
   ]
  },
  {
   "cell_type": "code",
   "execution_count": null,
   "id": "947a657a",
   "metadata": {},
   "outputs": [],
   "source": [
    "f.seek(0,2)\n",
    "  f.write(\"Saturday\")\n",
    "  f.write('\\n')\n",
    "  f.write(\"Sunday\""
   ]
  },
  {
   "cell_type": "code",
   "execution_count": null,
   "id": "b08fe015",
   "metadata": {},
   "outputs": [],
   "source": [
    "l=[]\n",
    "# n=int(input(\"How many number you want to take\"))\n",
    "for i in range(n):\n",
    "    a=int(input(\"Enter  number\"))\n",
    "    l.append(a)\n",
    "l"
   ]
  },
  {
   "cell_type": "code",
   "execution_count": 1,
   "id": "ad88884d",
   "metadata": {},
   "outputs": [
    {
     "name": "stdout",
     "output_type": "stream",
     "text": [
      "How many number you want to take5\n",
      "Enter  number4\n",
      "Enter  number3\n",
      "Enter  number5\n",
      "Enter  number6\n",
      "Enter  number1\n",
      "Maximum input number is \n",
      "6\n",
      "Minimum input number is \n",
      "1\n"
     ]
    }
   ],
   "source": [
    "l=[]\n",
    "n=int(input(\"How many number you want to take\"))\n",
    "for i in range(n):\n",
    "     a=int(input(\"Enter  number\"))\n",
    "     l.append(a)\n",
    "def maxfun():\n",
    "    for i in range(0,n):\n",
    "        for j in range(0,n):\n",
    "            if l[i]<l[j]:\n",
    "                break\n",
    "        else:\n",
    "            print(l[i])\n",
    "def minfun():\n",
    "    for i in range(0,n):\n",
    "        for j in range(0,n):\n",
    "            if l[i]>l[j]:\n",
    "                break\n",
    "        else:\n",
    "            print(l[i])\n",
    "print(\"Maximum input number is \")            \n",
    "maxfun()\n",
    "print(\"Minimum input number is \") \n",
    "minfun()"
   ]
  },
  {
   "cell_type": "code",
   "execution_count": null,
   "id": "16c11d92",
   "metadata": {},
   "outputs": [],
   "source": [
    "l=[]\n",
    "a=int(input(\"Enter  number\"))\n",
    "l.append(a)\n",
    "l"
   ]
  },
  {
   "cell_type": "code",
   "execution_count": 3,
   "id": "3df963e4",
   "metadata": {},
   "outputs": [
    {
     "name": "stdout",
     "output_type": "stream",
     "text": [
      "Enter 1st number4\n",
      "Enter 2nd number18\n",
      "{'EvenNo': '8', 'OddNo': '7'}\n"
     ]
    }
   ],
   "source": [
    "n1=int(input(\"Enter 1st number\"))\n",
    "n2=int(input(\"Enter 2nd number\"))\n",
    "l1=[]\n",
    "l2=[]\n",
    "for i in range(n1,n2+1):\n",
    "    if i%2==0:\n",
    "        l1.append(i)\n",
    "    else:\n",
    "        l2.append(i)\n",
    "dic={\"EvenNo\":str(len(l1)),\"OddNo\":str(len(l2))}\n",
    "print(dic)"
   ]
  },
  {
   "cell_type": "code",
   "execution_count": 2,
   "id": "fbef578b",
   "metadata": {},
   "outputs": [
    {
     "name": "stdout",
     "output_type": "stream",
     "text": [
      "{0: 0, 1: 1, 2: 4, 3: 9, 4: 16, 5: 25}\n"
     ]
    }
   ],
   "source": [
    "squares = {x: x*x for x in range(6)}\n",
    "\n",
    "print(squares)"
   ]
  },
  {
   "cell_type": "code",
   "execution_count": 2,
   "id": "58cd0028",
   "metadata": {},
   "outputs": [
    {
     "ename": "ValueError",
     "evalue": "invalid literal for int() with base 10: ''",
     "output_type": "error",
     "traceback": [
      "\u001b[1;31m---------------------------------------------------------------------------\u001b[0m",
      "\u001b[1;31mValueError\u001b[0m                                Traceback (most recent call last)",
      "\u001b[1;32m~\\AppData\\Local\\Temp/ipykernel_4728/3749582533.py\u001b[0m in \u001b[0;36m<module>\u001b[1;34m\u001b[0m\n\u001b[0;32m      7\u001b[0m         \u001b[0mf\u001b[0m\u001b[1;33m.\u001b[0m\u001b[0mwrite\u001b[0m\u001b[1;33m(\u001b[0m\u001b[0mstr\u001b[0m\u001b[1;33m(\u001b[0m\u001b[0mx\u001b[0m\u001b[1;33m)\u001b[0m\u001b[1;33m)\u001b[0m\u001b[1;33m\u001b[0m\u001b[1;33m\u001b[0m\u001b[0m\n\u001b[0;32m      8\u001b[0m \u001b[1;33m\u001b[0m\u001b[0m\n\u001b[1;32m----> 9\u001b[1;33m \u001b[0mfunc\u001b[0m\u001b[1;33m(\u001b[0m\u001b[1;33m)\u001b[0m\u001b[1;33m\u001b[0m\u001b[1;33m\u001b[0m\u001b[0m\n\u001b[0m",
      "\u001b[1;32m~\\AppData\\Local\\Temp/ipykernel_4728/3749582533.py\u001b[0m in \u001b[0;36mfunc\u001b[1;34m()\u001b[0m\n\u001b[0;32m      2\u001b[0m     \u001b[0mf\u001b[0m\u001b[1;33m=\u001b[0m\u001b[0mopen\u001b[0m\u001b[1;33m(\u001b[0m\u001b[1;34m\"Info2.txt\"\u001b[0m\u001b[1;33m,\u001b[0m\u001b[1;34m\"r\"\u001b[0m\u001b[1;33m)\u001b[0m\u001b[1;33m\u001b[0m\u001b[1;33m\u001b[0m\u001b[0m\n\u001b[0;32m      3\u001b[0m     \u001b[1;32mfor\u001b[0m \u001b[0mi\u001b[0m \u001b[1;32min\u001b[0m \u001b[0mrange\u001b[0m\u001b[1;33m(\u001b[0m\u001b[1;36m20\u001b[0m\u001b[1;33m)\u001b[0m\u001b[1;33m:\u001b[0m\u001b[1;33m\u001b[0m\u001b[1;33m\u001b[0m\u001b[0m\n\u001b[1;32m----> 4\u001b[1;33m         \u001b[0mx\u001b[0m\u001b[1;33m=\u001b[0m\u001b[0mint\u001b[0m\u001b[1;33m(\u001b[0m\u001b[0mf\u001b[0m\u001b[1;33m.\u001b[0m\u001b[0mreadline\u001b[0m\u001b[1;33m(\u001b[0m\u001b[1;33m)\u001b[0m\u001b[1;33m)\u001b[0m\u001b[1;33m\u001b[0m\u001b[1;33m\u001b[0m\u001b[0m\n\u001b[0m\u001b[0;32m      5\u001b[0m \u001b[1;31m#         x=int(x)\u001b[0m\u001b[1;33m\u001b[0m\u001b[1;33m\u001b[0m\u001b[0m\n\u001b[0;32m      6\u001b[0m         \u001b[0mx\u001b[0m\u001b[1;33m=\u001b[0m\u001b[0mx\u001b[0m\u001b[1;33m+\u001b[0m\u001b[1;36m5\u001b[0m\u001b[1;33m\u001b[0m\u001b[1;33m\u001b[0m\u001b[0m\n",
      "\u001b[1;31mValueError\u001b[0m: invalid literal for int() with base 10: ''"
     ]
    }
   ],
   "source": []
  },
  {
   "cell_type": "code",
   "execution_count": 4,
   "id": "b02df567",
   "metadata": {},
   "outputs": [],
   "source": [
    "file1=open(\"Info2.txt\",\"r\")\n",
    "for i in file1:\n",
    "    i=int(file1.readline())  \n",
    "    i=i+5     \n",
    "    file1.write(str(i))\n",
    "file1.close()"
   ]
  },
  {
   "cell_type": "code",
   "execution_count": 15,
   "id": "9c1f3d44",
   "metadata": {},
   "outputs": [
    {
     "name": "stdout",
     "output_type": "stream",
     "text": [
      "6\n",
      "7\n",
      "8\n",
      "9\n",
      "10\n",
      "11\n",
      "12\n",
      "13\n",
      "14\n",
      "15\n",
      "16\n",
      "17\n",
      "18\n",
      "19\n",
      "20\n",
      "21\n",
      "22\n",
      "23\n",
      "24\n",
      "25\n"
     ]
    }
   ],
   "source": [
    "f1=open('Info2.txt','w')\n",
    "for i in range(1,21):\n",
    "    i=int(i)\n",
    "    i=i+5\n",
    "    print(i)\n",
    "f1.close()"
   ]
  },
  {
   "cell_type": "code",
   "execution_count": 1,
   "id": "64cf0919",
   "metadata": {},
   "outputs": [
    {
     "name": "stdout",
     "output_type": "stream",
     "text": [
      "String is:Aashik\n",
      "1st element is :A\n",
      "Last element is :k\n"
     ]
    }
   ],
   "source": [
    "# Accessing characters in string\n",
    "str1=\"Gautam\"\n",
    "print(\"String is:\" + str1)\n",
    "print(\"1st element is :\"+ str1[0])\n",
    "print(\"Last element is :\"+ str1[-1])\n"
   ]
  },
  {
   "cell_type": "code",
   "execution_count": 2,
   "id": "ae296f41",
   "metadata": {},
   "outputs": [
    {
     "name": "stdout",
     "output_type": "stream",
     "text": [
      "Slicing Characters from 1st to 13th\n",
      "I love python\n",
      "Slicing Characters from 8th to last\n",
      "python programming\n"
     ]
    }
   ],
   "source": [
    "#String Slicing\n",
    "str1=\"I love python programming\"\n",
    "print(\"Slicing Characters from 1st to 13th\")\n",
    "print(str1[:13])\n",
    "print(\"Slicing Characters from 8th to last\")\n",
    "print(str1[7:])\n"
   ]
  },
  {
   "cell_type": "code",
   "execution_count": 3,
   "id": "06a6a6bc",
   "metadata": {},
   "outputs": [
    {
     "name": "stdout",
     "output_type": "stream",
     "text": [
      "By using +\n",
      "AashikRoy\n",
      "By using *\n",
      "AashikAashikAashik\n"
     ]
    }
   ],
   "source": [
    "# String Operations\n",
    "str1=\"Aashik\"\n",
    "str2=\"Roy\"\n",
    "print(\"By using +\")\n",
    "print(str1+str2)\n",
    "print(\"By using *\")\n",
    "print(str1*3)\n"
   ]
  },
  {
   "cell_type": "code",
   "execution_count": 4,
   "id": "1f3b8aa9",
   "metadata": {},
   "outputs": [
    {
     "name": "stdout",
     "output_type": "stream",
     "text": [
      "True\n",
      "False\n"
     ]
    }
   ],
   "source": [
    "# String membership Test\n",
    "str1=\"Gautam\"\n",
    "print('A' in str1)\n",
    "print('s' not in str1)\n"
   ]
  },
  {
   "cell_type": "code",
   "execution_count": 5,
   "id": "156a6f86",
   "metadata": {},
   "outputs": [
    {
     "name": "stdout",
     "output_type": "stream",
     "text": [
      "asiAHK"
     ]
    }
   ],
   "source": [
    "str=\"Gautam\"\n",
    "for i in str:\n",
    "    if(i==i.lower()):\n",
    "        print(i,end='')\n",
    "for i in str:\n",
    "            if(i==i.upper()):\n",
    "                print(i,end='') \n"
   ]
  },
  {
   "cell_type": "code",
   "execution_count": 7,
   "id": "50d6c0a4",
   "metadata": {},
   "outputs": [
    {
     "name": "stdout",
     "output_type": "stream",
     "text": [
      "Number of Vowels in string are\n",
      "4\n",
      "Number of consonants in string are\n",
      "6\n"
     ]
    }
   ],
   "source": [
    "s1=\"Gautam\"\n",
    "count1=0\n",
    "count2=0\n",
    "for i in range(0,len(s1)):\n",
    "    if(s1[i]=='a' or s1[i]=='e' or s1[i]=='i' or s1[i]=='o' or s1[i]=='u' ):\n",
    "        count1+=1\n",
    "    elif(s1[i]=='A' or s1[i]=='E' or s1[i]=='I' or s1[i]=='O' or s1[i]=='U' ):\n",
    "        count1+=1\n",
    "    else:\n",
    "        count2+=1\n",
    "print(\"Number of Vowels in string are\")\n",
    "print(count1)\n",
    "print(\"Number of consonants in string are\")\n",
    "print(count2)\n"
   ]
  },
  {
   "cell_type": "code",
   "execution_count": 11,
   "id": "c23c6365",
   "metadata": {},
   "outputs": [
    {
     "name": "stdout",
     "output_type": "stream",
     "text": [
      "My\n",
      "Name\n",
      "is\n",
      "Aashik\n"
     ]
    }
   ],
   "source": [
    "def function(*arg):\n",
    "         for i in arg:\n",
    "                   print(i)\n",
    "function('My','Name','is','Aashik')\n"
   ]
  },
  {
   "cell_type": "code",
   "execution_count": 13,
   "id": "6b49e3b6",
   "metadata": {},
   "outputs": [
    {
     "name": "stdout",
     "output_type": "stream",
     "text": [
      "name==Aashik\n",
      "course==B-tech\n",
      "RollNo==11212537\n"
     ]
    }
   ],
   "source": [
    "def function(**arg):\n",
    "            for key,value in arg.items():\n",
    "               print(\"%s==%s\"%(key,value))\n",
    "function(name='Gautam',course='B-tech',RollNo='11212529')\n"
   ]
  },
  {
   "cell_type": "code",
   "execution_count": 14,
   "id": "07bceb32",
   "metadata": {},
   "outputs": [
    {
     "name": "stdout",
     "output_type": "stream",
     "text": [
      "No. of Occurence of a is\n",
      "1\n"
     ]
    }
   ],
   "source": [
    "def letterOccurence(word,ltr):\n",
    "    count=0\n",
    "    for i in word:\n",
    "        if i==ltr:\n",
    "            count=count+1\n",
    "    print (\"No. of Occurence of \"+(ltr)+\" is\")\n",
    "    print(count)\n",
    "letterOccurence(\"Gautam\",\"a\")\n"
   ]
  },
  {
   "cell_type": "code",
   "execution_count": 15,
   "id": "b92cc1fd",
   "metadata": {},
   "outputs": [
    {
     "name": "stdout",
     "output_type": "stream",
     "text": [
      "Ashik\n"
     ]
    }
   ],
   "source": [
    "def letterRemoval(word,ltr):\n",
    "    s1=\"\"\n",
    "    for i in word:\n",
    "        if i==ltr:\n",
    "            continue\n",
    "        else:\n",
    "            s1+=i\n",
    "    print(s1)\n",
    "letterRemoval(\"Aashik\",\"a\")\n"
   ]
  },
  {
   "cell_type": "code",
   "execution_count": 18,
   "id": "60594bfc",
   "metadata": {},
   "outputs": [
    {
     "name": "stdout",
     "output_type": "stream",
     "text": [
      "AAshIk\n"
     ]
    }
   ],
   "source": [
    "def vowelCapital(word): \n",
    "    s1=\"\"\n",
    "    for i in word:\n",
    "        if(i=='a' or i=='e' or i=='i' or i=='o' or i=='u'):\n",
    "            s2=i.upper()\n",
    "            s1+=s2\n",
    "        else:\n",
    "            s1+=i\n",
    "    print(s1)\n",
    "vowelCapital(\"Gautam\")\n"
   ]
  },
  {
   "cell_type": "code",
   "execution_count": 19,
   "id": "4a2ea81c",
   "metadata": {},
   "outputs": [
    {
     "name": "stdout",
     "output_type": "stream",
     "text": [
      "Words are reverse of each other\n"
     ]
    }
   ],
   "source": [
    "def reverse(word1,word2):\n",
    "    if(len(word1)==len(word2)):\n",
    "        for i in range(len(word1)):\n",
    "            if(word1[i]==word2[-1-i]):\n",
    "              continue\n",
    "            else:\n",
    "              break\n",
    "        if(i==len(word1)-1):\n",
    "          print(\"Words are reverse of each other\")\n",
    "        else:\n",
    "          print(\"Words are not reverse of each other \")\n",
    "reverse(\"nitin\",\"nitin\")          \n"
   ]
  },
  {
   "cell_type": "code",
   "execution_count": 20,
   "id": "1781fbca",
   "metadata": {},
   "outputs": [
    {
     "name": "stdout",
     "output_type": "stream",
     "text": [
      "list\n",
      "[10, 'Aashik', 30]\n"
     ]
    }
   ],
   "source": [
    "list=[10,\"Aashik\",30]\n",
    "print(\"list\")\n",
    "print(list)\n"
   ]
  },
  {
   "cell_type": "code",
   "execution_count": 22,
   "id": "41a9c201",
   "metadata": {},
   "outputs": [
    {
     "name": "stdout",
     "output_type": "stream",
     "text": [
      "['G', 'A', 'U', 'T', 'A', 'M']\n",
      "['P', 'A', 'H', 'W', 'A']\n",
      "['U', 'T', 'A', 'M', 'P', 'A']\n",
      "Reverse List\n",
      "['A', 'W', 'H', 'A', 'P', 'M', 'A', 'T', 'U', 'A', 'G']\n"
     ]
    }
   ],
   "source": [
    "list=['G','A','U','T','A','M','P','A','H','W','A']\n",
    "print(list[:6])\n",
    "print(list[6:])\n",
    "print(list[2:8])\n",
    "# To reverse a list\n",
    "print(\"Reverse List\")\n",
    "print(list[::-1])\n"
   ]
  },
  {
   "cell_type": "code",
   "execution_count": 24,
   "id": "e46d7d4d",
   "metadata": {},
   "outputs": [
    {
     "name": "stdout",
     "output_type": "stream",
     "text": [
      "2\n",
      "h\n",
      "5.7\n"
     ]
    }
   ],
   "source": [
    "t1=(1,\"Hello\",2,3.4)\n",
    "t2=(\"Gautam\",[1,2,3],[3.4,5.7,4.2])\n",
    "print(t1[2])\n",
    "print(t2[0][3])\n",
    "print(t2[2][1])\n"
   ]
  },
  {
   "cell_type": "code",
   "execution_count": 25,
   "id": "be8c2882",
   "metadata": {},
   "outputs": [
    {
     "name": "stdout",
     "output_type": "stream",
     "text": [
      "('A', 'A', 'S', 'H', 'I', 'K')\n",
      "('R', 'O', 'Y')\n",
      "('Y', 'O', 'R', 'K', 'I', 'H', 'S', 'A', 'A')\n"
     ]
    }
   ],
   "source": [
    "t1=('G','A','U','T','A','M','P','A','H','W','A')\n",
    "print(t1[:6])\n",
    "print(t1[6:])\n",
    "       # reversing tuple\n",
    "print(t1[::-1])\n"
   ]
  },
  {
   "cell_type": "code",
   "execution_count": 27,
   "id": "ee734364",
   "metadata": {},
   "outputs": [
    {
     "name": "stdout",
     "output_type": "stream",
     "text": [
      "{1, 2, 3.4, 'Aashik'}\n"
     ]
    }
   ],
   "source": [
    "st={1,2,\"Aashik\",3.4}\n",
    "print(st)\n"
   ]
  },
  {
   "cell_type": "code",
   "execution_count": null,
   "id": "932aa9ab",
   "metadata": {},
   "outputs": [],
   "source": [
    "\n",
    "\n"
   ]
  },
  {
   "cell_type": "code",
   "execution_count": null,
   "id": "3a70d3b7",
   "metadata": {},
   "outputs": [],
   "source": [
    "def fun():\n",
    "    s1=input(\"Enter 1st word\")\n",
    "    s2=input(\"ENter 2nd word\")\n",
    "    sorted(s1)\n",
    "    sorted(s2)\n",
    "    if s1==s2:\n",
    "        print(\"Words not anagram\")\n",
    "    else:\n",
    "        print(\"Words are not anagram\")\n",
    "fun()"
   ]
  },
  {
   "cell_type": "code",
   "execution_count": null,
   "id": "b2dc6bee",
   "metadata": {},
   "outputs": [],
   "source": []
  },
  {
   "cell_type": "code",
   "execution_count": null,
   "id": "088aa608",
   "metadata": {},
   "outputs": [],
   "source": []
  },
  {
   "cell_type": "code",
   "execution_count": null,
   "id": "f4ca484a",
   "metadata": {},
   "outputs": [],
   "source": []
  },
  {
   "cell_type": "code",
   "execution_count": null,
   "id": "34f5f03f",
   "metadata": {},
   "outputs": [],
   "source": [
    "def func1():\n",
    "    s1=input(\"Enter 1st word\")\n",
    "    s2=input(\"Enter 2nd word\")\n",
    "    \n",
    "func1()\n"
   ]
  },
  {
   "cell_type": "code",
   "execution_count": 12,
   "id": "2c9e7248",
   "metadata": {},
   "outputs": [
    {
     "name": "stdout",
     "output_type": "stream",
     "text": [
      "10\n",
      "15\n",
      "15\n"
     ]
    }
   ],
   "source": [
    "a=5\n",
    "def fun():\n",
    "    global a\n",
    "    a=10\n",
    "    print(a)\n",
    "    a=15\n",
    "    print(a)\n",
    "\n",
    "fun()\n",
    "print(a)"
   ]
  },
  {
   "cell_type": "code",
   "execution_count": 7,
   "id": "e401e5b7",
   "metadata": {},
   "outputs": [
    {
     "data": {
      "text/plain": [
       "1"
      ]
     },
     "execution_count": 7,
     "metadata": {},
     "output_type": "execute_result"
    }
   ],
   "source": [
    "l1=[1,2,3]\n",
    "l1.index(2)"
   ]
  },
  {
   "cell_type": "code",
   "execution_count": null,
   "id": "40ccf98c",
   "metadata": {},
   "outputs": [],
   "source": []
  }
 ],
 "metadata": {
  "kernelspec": {
   "display_name": "Python 3.10.7 64-bit",
   "language": "python",
   "name": "python3"
  },
  "language_info": {
   "codemirror_mode": {
    "name": "ipython",
    "version": 3
   },
   "file_extension": ".py",
   "mimetype": "text/x-python",
   "name": "python",
   "nbconvert_exporter": "python",
   "pygments_lexer": "ipython3",
   "version": "3.10.7"
  },
  "vscode": {
   "interpreter": {
    "hash": "57cf9ef184d72eaccb6bd9ec73d56a0b7a49e9e2d409f85b57e655cf101782f0"
   }
  }
 },
 "nbformat": 4,
 "nbformat_minor": 5
}
