{
 "cells": [
  {
   "cell_type": "code",
   "execution_count": 5,
   "id": "5bf7b13d",
   "metadata": {},
   "outputs": [
    {
     "name": "stdout",
     "output_type": "stream",
     "text": [
      "Enter 1st wordgautam\n",
      "ENter 2nd wordaugtam\n",
      "['a', 'a', 'g', 'm', 't', 'u']\n",
      "['a', 'a', 'g', 'm', 't', 'u']\n",
      "Words are anagram\n"
     ]
    }
   ],
   "source": [
    "def fun():\n",
    "    s1=input(\"Enter 1st word\")\n",
    "    s2=input(\"ENter 2nd word\")\n",
    "    s3=sorted(s1)\n",
    "    s4=sorted(s2)\n",
    "    print(s3)\n",
    "    print(s4)\n",
    "    if s3==s4:\n",
    "        print(\"Words are anagram\")\n",
    "    else:\n",
    "        print(\"Words are not anagram\")\n",
    "fun()"
   ]
  },
  {
   "cell_type": "code",
   "execution_count": 1,
   "id": "c4e216a2",
   "metadata": {},
   "outputs": [
    {
     "name": "stdout",
     "output_type": "stream",
     "text": [
      "Enter 1st word nitin\n",
      "Enter 2nd word nitin\n",
      "Words are anagram\n"
     ]
    }
   ],
   "source": [
    "s1=input(\"Enter 1st word \")\n",
    "s2=input(\"Enter 2nd word \")\n",
    "s3=list(s1)\n",
    "s3.sort()\n",
    "s4=list(s2)\n",
    "s4.sort()\n",
    "if s3==s4:\n",
    "    print(\"Words are anagram\")\n",
    "else:\n",
    "    print(\"Words are not anagram\")\n"
   ]
  },
  {
   "cell_type": "markdown",
   "id": "cde2c3da",
   "metadata": {},
   "source": [
    "def fun():\n",
    "    t1=input(\"Enter 1st word \")\n",
    "    t2=input(\"ENter 2nd word \")\n",
    "    t3=sorted(t1)\n",
    "    t4=sorted(t2)\n",
    "    print(t3)\n",
    "    print(t4)\n",
    "    if t3==t4:\n",
    "        print(\"Words are anagram\")\n",
    "    else:\n",
    "        print(\"Words are not anagram\")\n",
    "fun()"
   ]
  },
  {
   "cell_type": "code",
   "execution_count": null,
   "id": "5e9b3003",
   "metadata": {},
   "outputs": [],
   "source": [
    "s1=input(\"Enter 1st word \")\n",
    "s2=input(\"Enter 2nd word \")\n",
    "s3=list(s1)\n",
    "s3.sort()\n",
    "s4=list(s2)\n",
    "s4.sort()\n",
    "if s3==s4:\n",
    "    print(\"Words are anagram\")\n",
    "else:\n",
    "    print(\"Words are not anagram\")"
   ]
  },
  {
   "cell_type": "code",
   "execution_count": null,
   "id": "5be2f570",
   "metadata": {},
   "outputs": [],
   "source": []
  }
 ],
 "metadata": {
  "kernelspec": {
   "display_name": "Python 3 (ipykernel)",
   "language": "python",
   "name": "python3"
  },
  "language_info": {
   "codemirror_mode": {
    "name": "ipython",
    "version": 3
   },
   "file_extension": ".py",
   "mimetype": "text/x-python",
   "name": "python",
   "nbconvert_exporter": "python",
   "pygments_lexer": "ipython3",
   "version": "3.9.7"
  }
 },
 "nbformat": 4,
 "nbformat_minor": 5
}
